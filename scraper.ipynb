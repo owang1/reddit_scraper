import requests
import os
from IPython.display import HTML
from ipywidgets import interact

# Functions
URLbegin = 'https://www.reddit.com/r/'


def multireddit(subreddits, limit=5, orderby='score'):
    ''' Displays an HTML listing of the top `limit` articles from the
    various `subreddits` specified by the user.  These articles will be
    sorted by the field specified by `orderby`

      - `subreddits` is a comma-separated list of subreddits (ie.
        `linux,linuxmasterrace`)

      - `orderby` is any field in the Reddit JSON data for a particular
        article (ie. `score`, `title`, `created_utc`, etc.)
    '''
    # Process function arguments, store in list
    if not subreddits:
        return
    
    list = []
    for item in subreddits.strip().split(','):
        list.append(item)
    
    # Store and limit data, construct html
    
    for datum in list:
        response = fetch_subreddit(datum)
        data = response.json()
        # 'data' is a dictionary
        articles =  data['data']['children']
    html = '<table><tbody>'
    for index, article in enumerate(sorted(articles, key=lambda a: a['data'][orderby], reverse=True)[:limit]):
        html += '''
        <tr>
            <td>{}.</td>
            <td style="text-align: left"><a href="{}">{}</a></td> 
            <td style="text-align: left"><b>Score: </b>{}</td>
            <td style="text-align: left"><a href="https://www.reddit.com{}">Comments</a></td>
        </tr>
        '''.format(index + 1, article['data']['url'], article['data']['title'], article['data']['score'], article['data']['permalink'])   
    html += '</tbody></table>'
    display(HTML(html))
    
    ORDERBY = {
    'Score': 'score',
    'Creation Time': 'created_utc',
    'Title': 'title'
    }
    
    def fetch_subreddit(sr):
        headers  = {'user-agent': 'reddit-{}'.format(os.environ['USER'])}
        for i in range (20):
            response = requests.get('https://www.reddit.com/r/'+ sr + '/.json', headers=headers)
            if response.status_code == 200:
                break
        return response
        
    interact(multireddit, subreddits='', limit=(1, 20), orderby=ORDERBY)
